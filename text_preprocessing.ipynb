{
 "cells": [
  {
   "cell_type": "code",
   "execution_count": 92,
   "metadata": {},
   "outputs": [],
   "source": [
    "text = \"\"\"<p>A boy name Aryan 🧒 walk into jungle of raw text 😵‍💫 which were full of messy datas.</p> He triped <b>over</b> <a href=\"#\">HTML tags</a> and dodge flying 😆 emojis and get tangle in <i>URLs</i>, user@mentions and #hashtags!!! The air was very thick,,, with punctuations???? and contraction like <u>don't</u>, grammatical error and <strong>  </strong>. SOME words SHOUTED IN UPPERCASE!! while otherz were mispelled or repeated. <div>Using tools he was cleaned the jungle well!</div>\"\"\""
   ]
  },
  {
   "cell_type": "markdown",
   "metadata": {},
   "source": [
    "## lowercasing"
   ]
  },
  {
   "cell_type": "code",
   "execution_count": 93,
   "metadata": {},
   "outputs": [
    {
     "name": "stdout",
     "output_type": "stream",
     "text": [
      "<p>a boy name aryan 🧒 walk into jungle of raw text 😵‍💫 which were full of messy datas.</p> he triped <b>over</b> <a href=\"#\">html tags</a> and dodge flying 😆 emojis and get tangle in <i>urls</i>, user@mentions and #hashtags!!! the air was very thick,,, with punctuations???? and contraction like <u>don't</u>, grammatical error and <strong>  </strong>. some words shouted in uppercase!! while otherz were mispelled or repeated. <div>using tools he was cleaned the jungle well!</div>\n"
     ]
    }
   ],
   "source": [
    "text = text.lower()\n",
    "print(text)"
   ]
  },
  {
   "cell_type": "markdown",
   "metadata": {},
   "source": [
    "## Removing HTML Tags"
   ]
  },
  {
   "cell_type": "code",
   "execution_count": 94,
   "metadata": {},
   "outputs": [
    {
     "name": "stdout",
     "output_type": "stream",
     "text": [
      "a boy name aryan 🧒 walk into jungle of raw text 😵‍💫 which were full of messy datas. he triped over  and dodge flying 😆 emojis and get tangle in , user@mentions and #hashtags!!! the air was very thick,,, with punctuations???? and contraction like , grammatical error and   . some words shouted in uppercase!! while otherz were mispelled or repeated. using tools he was cleaned the jungle well!\n"
     ]
    }
   ],
   "source": [
    "import re\n",
    "# removing a i u tags where text is bet tags where text is not imp so <a>ur;</a>\n",
    "def remove_html_tags(text):\n",
    "    text = re.sub(r'<(i|u|a).*>.*?<\\/\\1>','',text)\n",
    "    text = re.sub(r'<.*?>','',text)\n",
    "    return text\n",
    "text = remove_html_tags(text)\n",
    "print(text)"
   ]
  },
  {
   "cell_type": "markdown",
   "metadata": {},
   "source": [
    "## Removing URLs"
   ]
  },
  {
   "cell_type": "code",
   "execution_count": 95,
   "metadata": {},
   "outputs": [
    {
     "name": "stdout",
     "output_type": "stream",
     "text": [
      "Check out this awesome website: for more information. Also, visit our blog at to read the latest updates! \n"
     ]
    }
   ],
   "source": [
    "data = \"\"\"Check out this awesome website: https://www.example.com for more information. Also, visit our blog at http://blog.example.org/articles to read the latest updates! \"\"\"\n",
    "def remove_urls(text):\n",
    "    data = re.sub(r'(https?|www):\\/\\/\\S.*?\\s','',text)\n",
    "    return data\n",
    "\n",
    "data = remove_urls(data)\n",
    "print(data)"
   ]
  },
  {
   "cell_type": "markdown",
   "metadata": {},
   "source": [
    "## Removing Punctuations"
   ]
  },
  {
   "cell_type": "code",
   "execution_count": 96,
   "metadata": {},
   "outputs": [
    {
     "name": "stdout",
     "output_type": "stream",
     "text": [
      "a boy name aryan 🧒 walk into jungle of raw text 😵‍💫 which were full of messy datas he triped over  and dodge flying 😆 emojis and get tangle in  usermentions and hashtags the air was very thick with punctuations and contraction like  grammatical error and    some words shouted in uppercase while otherz were mispelled or repeated using tools he was cleaned the jungle well\n"
     ]
    }
   ],
   "source": [
    "import string\n",
    "punchuation = string.punctuation\n",
    "def remove_punchuation(text):\n",
    "    #it removes all punchutaions in the text\n",
    "    return text.translate(str.maketrans('','',punchuation))\n",
    "\n",
    "text = remove_punchuation(text)\n",
    "print(text)"
   ]
  },
  {
   "cell_type": "markdown",
   "metadata": {},
   "source": [
    "## Chat Word Treatment"
   ]
  },
  {
   "cell_type": "code",
   "execution_count": 97,
   "metadata": {},
   "outputs": [],
   "source": [
    "#handle with care\n",
    "from chat_words import chat_words_dict\n",
    "def chat_word_treatment(data):\n",
    "    words = data.split()\n",
    "    new_text = []\n",
    "    for word in words:\n",
    "        if word in chat_words_dict.keys():\n",
    "            new_text.append(chat_words_dict[word])\n",
    "        else:\n",
    "            new_text.append(word)\n",
    "    return \" \".join(new_text)"
   ]
  },
  {
   "cell_type": "code",
   "execution_count": 98,
   "metadata": {},
   "outputs": [
    {
     "name": "stdout",
     "output_type": "stream",
     "text": [
      "i am -d laugher away from keyboard\n"
     ]
    }
   ],
   "source": [
    "print(chat_word_treatment('i am sic af'))"
   ]
  },
  {
   "cell_type": "markdown",
   "metadata": {},
   "source": [
    "## Spelling corrections"
   ]
  },
  {
   "cell_type": "code",
   "execution_count": 99,
   "metadata": {},
   "outputs": [
    {
     "name": "stdout",
     "output_type": "stream",
     "text": [
      "a boy name bryan 🧒 walk into jungle of raw text 😵‍💫 which were full of mess data he tried over  and dodge flying 😆 femoris and get tangle in  usermentions and hashtags the air was very thick with punctuation and contraction like  grammatical error and    some words shouted in uppercase while other were dispelled or repeated using tools he was cleaned the jungle well\n"
     ]
    }
   ],
   "source": [
    "#using Textblob\n",
    "# try also ssymspellpy\n",
    "from textblob import TextBlob\n",
    "def correct_spell(text):\n",
    "    txtblob = TextBlob(text)\n",
    "    return txtblob.correct().string\n",
    "text = correct_spell(text)\n",
    "print(text)"
   ]
  },
  {
   "cell_type": "markdown",
   "metadata": {},
   "source": [
    "## Removing Stopwords"
   ]
  },
  {
   "cell_type": "code",
   "execution_count": 109,
   "metadata": {},
   "outputs": [
    {
     "data": {
      "text/plain": [
       "' boy name bryan 🧒 walk  jungle  raw text 😵\\u200d💫   full  mess data  tried   dodge flying 😆 femoris  get tangle  usermentions  hashtags  air   thick  punctuation  contraction like grammatical error   words shouted  uppercase    dispelled  repeated using tools   cleaned  jungle well'"
      ]
     },
     "execution_count": 109,
     "metadata": {},
     "output_type": "execute_result"
    }
   ],
   "source": [
    "from nltk.corpus import stopwords\n",
    "def remove_stopwords(text):\n",
    "    new_text = []\n",
    "    for word in text.split():\n",
    "        if word in stopwords.words('english'):\n",
    "            new_text.append('')\n",
    "        else:\n",
    "            new_text.append(word)\n",
    "    return \" \".join(new_text)\n",
    "\n",
    "remove_stopwords(text)"
   ]
  },
  {
   "cell_type": "markdown",
   "metadata": {},
   "source": [
    "## Handling Emojis"
   ]
  },
  {
   "cell_type": "code",
   "execution_count": 112,
   "metadata": {},
   "outputs": [],
   "source": [
    "import re\n",
    "def remove_emoji(text):\n",
    "    emoji_pattern = re.compile(\"[\"\n",
    "                           u\"\\U0001F600-\\U0001F64F\"  # emoticons\n",
    "                           u\"\\U0001F300-\\U0001F5FF\"  # symbols & pictographs\n",
    "                           u\"\\U0001F680-\\U0001F6FF\"  # transport & map symbols\n",
    "                           u\"\\U0001F1E0-\\U0001F1FF\"  # flags (iOS)\n",
    "                           u\"\\U00002702-\\U000027B0\"\n",
    "                           u\"\\U000024C2-\\U0001F251\"\n",
    "                           \"]+\", flags=re.UNICODE)\n",
    "    return emoji_pattern.sub(r'', text)\n"
   ]
  },
  {
   "cell_type": "code",
   "execution_count": 113,
   "metadata": {},
   "outputs": [
    {
     "data": {
      "text/plain": [
       "'Loved the movie. It was '"
      ]
     },
     "execution_count": 113,
     "metadata": {},
     "output_type": "execute_result"
    }
   ],
   "source": [
    "remove_emoji(\"Loved the movie. It was 😘😘\")"
   ]
  },
  {
   "cell_type": "code",
   "execution_count": 119,
   "metadata": {},
   "outputs": [
    {
     "name": "stdout",
     "output_type": "stream",
     "text": [
      "Python is :fire:\n"
     ]
    }
   ],
   "source": [
    "# it should be done at begaing so the symbol : will be removed with punctuaition\n",
    "#handle with care if we want to use the emoji context so keep it other wise delete it\n",
    "import emoji\n",
    "print(emoji.demojize('Python is 🔥'))"
   ]
  }
 ],
 "metadata": {
  "kernelspec": {
   "display_name": "Python 3",
   "language": "python",
   "name": "python3"
  },
  "language_info": {
   "codemirror_mode": {
    "name": "ipython",
    "version": 3
   },
   "file_extension": ".py",
   "mimetype": "text/x-python",
   "name": "python",
   "nbconvert_exporter": "python",
   "pygments_lexer": "ipython3",
   "version": "3.11.4"
  }
 },
 "nbformat": 4,
 "nbformat_minor": 2
}
